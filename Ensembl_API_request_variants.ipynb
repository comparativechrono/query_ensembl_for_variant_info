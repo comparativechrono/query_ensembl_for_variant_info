{
  "nbformat": 4,
  "nbformat_minor": 0,
  "metadata": {
    "colab": {
      "provenance": [],
      "authorship_tag": "ABX9TyMR+xjCTJxtLZsGt9QhJ9I0",
      "include_colab_link": true
    },
    "kernelspec": {
      "name": "python3",
      "display_name": "Python 3"
    },
    "language_info": {
      "name": "python"
    }
  },
  "cells": [
    {
      "cell_type": "markdown",
      "metadata": {
        "id": "view-in-github",
        "colab_type": "text"
      },
      "source": [
        "<a href=\"https://colab.research.google.com/github/comparativechrono/query_ensembl_for_variant_info/blob/main/Ensembl_API_request_variants.ipynb\" target=\"_parent\"><img src=\"https://colab.research.google.com/assets/colab-badge.svg\" alt=\"Open In Colab\"/></a>"
      ]
    },
    {
      "cell_type": "code",
      "source": [
        "import requests\n",
        "import pandas as pd\n",
        "\n",
        "def get_variant_info(rsid, assembly):\n",
        "    if assembly == 'grch37':\n",
        "        server = \"https://grch37.rest.ensembl.org\"\n",
        "    else:\n",
        "        server = \"https://rest.ensembl.org\"\n",
        "    ext = f\"/variation/human/{rsid}?\"\n",
        "    headers = {\"Content-Type\": \"application/json\"}\n",
        "\n",
        "    url = server + ext\n",
        "    print(f\"Requesting URL: {url}\")\n",
        "    response = requests.get(url, headers=headers)\n",
        "    if not response.ok:\n",
        "        print(f\"Error fetching {rsid} from {assembly}: {response.text}\")\n",
        "        response.raise_for_status()\n",
        "\n",
        "    return response.json()\n",
        "\n",
        "def extract_coordinates(mappings, assembly_name):\n",
        "    for mapping in mappings:\n",
        "        if mapping['assembly_name'] == assembly_name:\n",
        "            return {\n",
        "                'Chromosome': mapping['seq_region_name'],\n",
        "                'Start': mapping['start'],\n",
        "                'End': mapping['end']\n",
        "            }\n",
        "    return None\n",
        "\n",
        "def get_coordinates(rsid_list):\n",
        "    data = []\n",
        "    for rsid in rsid_list:\n",
        "        try:\n",
        "            info_GRCh38 = get_variant_info(rsid, 'human')\n",
        "            info_GRCh37 = get_variant_info(rsid, 'grch37')\n",
        "\n",
        "            coords_GRCh38 = extract_coordinates(info_GRCh38.get('mappings', []), 'GRCh38')\n",
        "            coords_GRCh37 = extract_coordinates(info_GRCh37.get('mappings', []), 'GRCh37')\n",
        "\n",
        "            data.append({\n",
        "                \"rsID\": rsid,\n",
        "                \"GRCh38_Chromosome\": coords_GRCh38['Chromosome'] if coords_GRCh38 else None,\n",
        "                \"GRCh38_Start\": coords_GRCh38['Start'] if coords_GRCh38 else None,\n",
        "                \"GRCh38_End\": coords_GRCh38['End'] if coords_GRCh38 else None,\n",
        "                \"GRCh37_Chromosome\": coords_GRCh37['Chromosome'] if coords_GRCh37 else None,\n",
        "                \"GRCh37_Start\": coords_GRCh37['Start'] if coords_GRCh37 else None,\n",
        "                \"GRCh37_End\": coords_GRCh37['End'] if coords_GRCh37 else None,\n",
        "            })\n",
        "        except Exception as e:\n",
        "            data.append({\n",
        "                \"rsID\": rsid,\n",
        "                \"GRCh38_Chromosome\": None,\n",
        "                \"GRCh38_Start\": None,\n",
        "                \"GRCh38_End\": None,\n",
        "                \"GRCh37_Chromosome\": None,\n",
        "                \"GRCh37_Start\": None,\n",
        "                \"GRCh37_End\": None,\n",
        "                \"Error\": str(e)\n",
        "            })\n",
        "\n",
        "    return pd.DataFrame(data)\n",
        "\n",
        "# List of rsIDs\n",
        "rsid_list = ['rs56116432', 'rs456', 'rs789']  # Replace with your actual rsIDs\n",
        "\n",
        "# Get coordinates\n",
        "coordinates_df = get_coordinates(rsid_list)\n",
        "\n",
        "# Display the results\n",
        "print(coordinates_df)\n",
        "\n",
        "# Save the DataFrame to a text file\n",
        "output_file = \"rsid_coordinates.txt\"\n",
        "coordinates_df.to_csv(output_file, sep='\\t', index=False)\n",
        "print(f\"DataFrame saved to {output_file}\")\n"
      ],
      "metadata": {
        "colab": {
          "base_uri": "https://localhost:8080/"
        },
        "id": "j43tx9V3yeIK",
        "outputId": "0205e249-e86a-429b-d644-56b77565ae1f"
      },
      "execution_count": 18,
      "outputs": [
        {
          "output_type": "stream",
          "name": "stdout",
          "text": [
            "Requesting URL: https://rest.ensembl.org/variation/human/rs56116432?\n",
            "Requesting URL: https://grch37.rest.ensembl.org/variation/human/rs56116432?\n",
            "Requesting URL: https://rest.ensembl.org/variation/human/rs456?\n",
            "Requesting URL: https://grch37.rest.ensembl.org/variation/human/rs456?\n",
            "Requesting URL: https://rest.ensembl.org/variation/human/rs789?\n",
            "Requesting URL: https://grch37.rest.ensembl.org/variation/human/rs789?\n",
            "         rsID GRCh38_Chromosome  GRCh38_Start  GRCh38_End GRCh37_Chromosome  \\\n",
            "0  rs56116432                 9     133256042   133256042        HG79_PATCH   \n",
            "1       rs456                 7      24922800    24922800                 7   \n",
            "2       rs789                 3      29355524    29355524                 3   \n",
            "\n",
            "   GRCh37_Start  GRCh37_End  \n",
            "0     136131576   136131576  \n",
            "1      24962419    24962419  \n",
            "2      29397015    29397015  \n",
            "DataFrame saved to rsid_coordinates.txt\n"
          ]
        }
      ]
    }
  ]
}